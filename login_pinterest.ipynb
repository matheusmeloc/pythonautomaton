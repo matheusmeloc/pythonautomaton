from selenium import webdriver
from selenium.webdriver.common.keys import Keys
driver = webdriver.Chrome()
driver.get('https://br.pinterest.com/')
driver.find_element("xpath",'//*[@id="fullpage-wrapper"]/div[1]/div/div/div[1]/div/div[2]/div[2]/button/div/div').click()
driver.find_element("xpath",'//*[@id="email"]').click()
driver.find_element("xpath",'//*[@id="email"]').send_keys('matheusimporer@gmail.com')
driver.find_element("xpath",'//*[@id="password"]').click()
driver.find_element("xpath",'//*[@id="password"]').send_keys('123456789y*')
driver.find_element("xpath",'//*[@id="__PWS_ROOT__"]/div/div[1]/div/div[2]/div/div/div/div/div/div[4]/form/div[7]/button/div').click()
