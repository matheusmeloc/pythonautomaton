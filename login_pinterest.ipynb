{
 "cells": [
  {
   "cell_type": "code",
   "execution_count": 1,
   "id": "d3d93262",
   "metadata": {},
   "outputs": [],
   "source": [
    "from selenium import webdriver\n",
    "from selenium.webdriver.common.keys import Keys\n",
    "driver = webdriver.Chrome()\n",
    "driver.get('https://br.pinterest.com/')\n",
    "driver.find_element(\"xpath\",'//*[@id=\"fullpage-wrapper\"]/div[1]/div/div/div[1]/div/div[2]/div[2]/button/div/div').click()\n",
    "driver.find_element(\"xpath\",'//*[@id=\"email\"]').click()\n",
    "driver.find_element(\"xpath\",'//*[@id=\"email\"]').send_keys('matheusimporer@gmail.com')\n",
    "driver.find_element(\"xpath\",'//*[@id=\"password\"]').click()\n",
    "driver.find_element(\"xpath\",'//*[@id=\"password\"]').send_keys('123456789y*')\n",
    "driver.find_element(\"xpath\",'//*[@id=\"__PWS_ROOT__\"]/div/div[1]/div/div[2]/div/div/div/div/div/div[4]/form/div[7]/button/div').click()"
   ]
  },
  {
   "cell_type": "code",
   "execution_count": null,
   "id": "47d5bb47",
   "metadata": {},
   "outputs": [],
   "source": []
  }
 ],
 "metadata": {
  "kernelspec": {
   "display_name": "Python 3",
   "language": "python",
   "name": "python3"
  },
  "language_info": {
   "codemirror_mode": {
    "name": "ipython",
    "version": 3
   },
   "file_extension": ".py",
   "mimetype": "text/x-python",
   "name": "python",
   "nbconvert_exporter": "python",
   "pygments_lexer": "ipython3",
   "version": "3.11.2"
  },
  "vscode": {
   "interpreter": {
    "hash": "0e0f52d259b9ded992410736222679d5d2adc32b4efa7d45d1056db081950c34"
   }
  }
 },
 "nbformat": 4,
 "nbformat_minor": 5
}
