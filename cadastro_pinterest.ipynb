{
 "cells": [
  {
   "cell_type": "code",
   "execution_count": 6,
   "id": "37f1df49",
   "metadata": {},
   "outputs": [],
   "source": [
    "from selenium import webdriver\n",
    "from selenium.webdriver.common.keys import Keys\n",
    "driver = webdriver.Chrome()\n",
    "driver.get('https://br.pinterest.com/')\n",
    "driver.find_element(\"xpath\",'//*[@id=\"fullpage-wrapper\"]/div[1]/div/div/div[1]/div/div[2]/div[3]/button/div/div').click()\n",
    "driver.find_element(\"xpath\",'//*[@id=\"email\"]').send_keys('matheusimporer@gmail.com')\n",
    "driver.find_element(\"xpath\",'//*[@id=\"password\"]').send_keys('123456789y*')\n",
    "driver.find_element(\"xpath\",'//*[@id=\"age-input\"]').send_keys('21')\n",
    "driver.find_element(\"xpath\",'//*[@id=\"__PWS_ROOT__\"]/div/div[1]/div/div[2]/div/div/div/div/div[1]/div[5]/div/div[1]/form/div[8]/button/div').click()"
   ]
  },
  {
   "cell_type": "code",
   "execution_count": null,
   "id": "f86d3f9d",
   "metadata": {},
   "outputs": [],
   "source": []
  }
 ],
 "metadata": {
  "kernelspec": {
   "display_name": "Python 3 (ipykernel)",
   "language": "python",
   "name": "python3"
  },
  "language_info": {
   "codemirror_mode": {
    "name": "ipython",
    "version": 3
   },
   "file_extension": ".py",
   "mimetype": "text/x-python",
   "name": "python",
   "nbconvert_exporter": "python",
   "pygments_lexer": "ipython3",
   "version": "3.9.13"
  }
 },
 "nbformat": 4,
 "nbformat_minor": 5
}
